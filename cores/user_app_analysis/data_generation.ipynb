{
 "cells": [
  {
   "cell_type": "markdown",
   "metadata": {},
   "source": [
    "### **Generación de datos para el dataset**\n",
    "\n",
    "En este notebook se generan aleatoriamente los datos a analizar, utilizando la librería random"
   ]
  },
  {
   "cell_type": "code",
   "execution_count": 1,
   "metadata": {},
   "outputs": [],
   "source": [
    "# importacion de librerias\n",
    "import pandas as pd\n",
    "import numpy as np\n",
    "import random"
   ]
  },
  {
   "cell_type": "code",
   "execution_count": 6,
   "metadata": {},
   "outputs": [],
   "source": [
    "# configuracion de la semilla para reproducibilidad\n",
    "np.random.seed(42)"
   ]
  },
  {
   "cell_type": "code",
   "execution_count": 7,
   "metadata": {},
   "outputs": [],
   "source": [
    "# generación de los datos sintéticos\n",
    "user_id = range(1, 301)\n",
    "app_version = np.random.choice(['1.0', '1.1', '1.2', '1.3'], 300)\n",
    "platform = np.random.choice(['Android', 'iOS'], 300)\n",
    "session_duration = np.random.randint(1, 180, 300)\n",
    "number_of_sessions = np.random.randint(1, 20, 300)\n",
    "country = np.random.choice(['USA', 'Canada', 'Mexico', 'UK', 'Germany', 'France', 'Spain', 'Italy'], 300)\n",
    "user_feedback = np.random.randint(1, 6, 300)"
   ]
  },
  {
   "cell_type": "code",
   "execution_count": 8,
   "metadata": {},
   "outputs": [],
   "source": [
    "# creación del DataFrame\n",
    "data = pd.DataFrame({\n",
    "    'user_id': user_id,\n",
    "    'app_version': app_version,\n",
    "    'platform': platform,\n",
    "    'session_duration': session_duration,\n",
    "    'number_of_sessions': number_of_sessions,\n",
    "    'country': country,\n",
    "    'user_feedback': user_feedback\n",
    "})"
   ]
  },
  {
   "cell_type": "code",
   "execution_count": 9,
   "metadata": {},
   "outputs": [
    {
     "name": "stdout",
     "output_type": "stream",
     "text": [
      "Datos generados y guardados en 'user_app_data.csv'\n"
     ]
    }
   ],
   "source": [
    "# se guardan los datos en un archivo csv\n",
    "data.to_csv('user_app_data.csv', index=False)\n",
    "print(\"Datos generados y guardados en 'user_app_data.csv'\")"
   ]
  }
 ],
 "metadata": {
  "kernelspec": {
   "display_name": "datascience",
   "language": "python",
   "name": "python3"
  },
  "language_info": {
   "codemirror_mode": {
    "name": "ipython",
    "version": 3
   },
   "file_extension": ".py",
   "mimetype": "text/x-python",
   "name": "python",
   "nbconvert_exporter": "python",
   "pygments_lexer": "ipython3",
   "version": "3.12.3"
  }
 },
 "nbformat": 4,
 "nbformat_minor": 2
}
